{
 "cells": [
  {
   "cell_type": "markdown",
   "metadata": {},
   "source": [
    "### Análisis de Datos con Python\n",
    "\n",
    "#### Objetivo\n",
    "\n",
    "El proyecto tiene como objetivo desarrollar un notebook de análisis de datos que permita la carga, manipulación, visualización y generación de informes a partir de conjuntos de datos utilizando las librerías **Pandas**, **NumPy**, **Matplotlib** y **NLTK**. Se implementan técnicas de limpieza y transformación de datos con **Pandas** para preparar adecuadamente los conjuntos de datos. Además, se crearon visualizaciones interactivas e informativas utilizando **Matplotlib**, diseñadas para que los tomadores de decisiones puedan explorar los datos de manera visual y obtener insights valiosos.\n",
    "\n",
    "#### Descripción\n",
    "\n",
    "Este análisis de datos se llevó a cabo a partir de un archivo **CSV** y un archivo de texto (**.txt**).\n",
    "\n",
    "El procesamiento de estos datos se realizó completamente en un ambiente de trabajo basado en **Python**, utilizando las librerías mencionadas. Se llevó a cabo una limpieza exhaustiva de los datos utilizando **Pandas**, lo que permitió transformar los datos y prepararlos para el análisis. Finalmente, se generaron visualizaciones dinámicas y detalladas con **Matplotlib**, lo que permite obtener información clave para las decisiones estratégicas.\n",
    " 2"
   ]
  },
  {
   "cell_type": "code",
   "execution_count": null,
   "metadata": {},
   "outputs": [],
   "source": []
  }
 ],
 "metadata": {
  "language_info": {
   "name": "python"
  }
 },
 "nbformat": 4,
 "nbformat_minor": 2
}
