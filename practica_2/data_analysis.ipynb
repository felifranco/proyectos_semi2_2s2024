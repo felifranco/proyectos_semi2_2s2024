{
 "cells": [
  {
   "cell_type": "markdown",
   "metadata": {},
   "source": [
    "# Análisis de Datos con Python\n"
   ]
  },
  {
   "cell_type": "markdown",
   "metadata": {},
   "source": [
    "## Carga de datos\n",
    "\n",
    "Importar la librería de Python, `Pandas`:\n"
   ]
  },
  {
   "cell_type": "code",
   "execution_count": 391,
   "metadata": {},
   "outputs": [],
   "source": [
    "import pandas as pd"
   ]
  },
  {
   "cell_type": "markdown",
   "metadata": {},
   "source": [
    "Cargar el archivo CSV con los datos\n"
   ]
  },
  {
   "cell_type": "code",
   "execution_count": 392,
   "metadata": {},
   "outputs": [],
   "source": [
    "dataFrame = pd.read_csv('archivos_entrada/datos.csv')"
   ]
  },
  {
   "cell_type": "markdown",
   "metadata": {},
   "source": [
    "Imprimir los primeros (5) valores del archivo CSV cargado. Se puede definir cuantas filas mostrar con `dataFrame.head(3)` a partir del inicio, o al final del archivo `dataFrame.tail(2)`.\n"
   ]
  },
  {
   "cell_type": "code",
   "execution_count": 393,
   "metadata": {},
   "outputs": [
    {
     "data": {
      "text/html": [
       "<div>\n",
       "<style scoped>\n",
       "    .dataframe tbody tr th:only-of-type {\n",
       "        vertical-align: middle;\n",
       "    }\n",
       "\n",
       "    .dataframe tbody tr th {\n",
       "        vertical-align: top;\n",
       "    }\n",
       "\n",
       "    .dataframe thead th {\n",
       "        text-align: right;\n",
       "    }\n",
       "</style>\n",
       "<table border=\"1\" class=\"dataframe\">\n",
       "  <thead>\n",
       "    <tr style=\"text-align: right;\">\n",
       "      <th></th>\n",
       "      <th>Course Title</th>\n",
       "      <th>Rating</th>\n",
       "      <th>Level</th>\n",
       "      <th>Duration</th>\n",
       "      <th>Schedule</th>\n",
       "      <th>Review</th>\n",
       "      <th>What you will learn</th>\n",
       "      <th>Skill gain</th>\n",
       "      <th>Modules</th>\n",
       "      <th>Instructor</th>\n",
       "      <th>Offered By</th>\n",
       "      <th>Keyword</th>\n",
       "      <th>Course Url</th>\n",
       "    </tr>\n",
       "  </thead>\n",
       "  <tbody>\n",
       "    <tr>\n",
       "      <th>0</th>\n",
       "      <td>Fashion as Design</td>\n",
       "      <td>4.8</td>\n",
       "      <td>Beginner level</td>\n",
       "      <td>20 hours (approximately)</td>\n",
       "      <td>Flexible schedule</td>\n",
       "      <td>2,813 reviews</td>\n",
       "      <td>NaN</td>\n",
       "      <td>['Art History', 'Art', 'History', 'Creativity']</td>\n",
       "      <td>['Introduction', 'Heroes', 'Silhouettes', 'Cou...</td>\n",
       "      <td>['Anna Burckhardt', 'Paola Antonelli', 'Michel...</td>\n",
       "      <td>['The Museum of Modern Art']</td>\n",
       "      <td>Arts and Humanities</td>\n",
       "      <td>https://www.coursera.org/learn/fashion-design</td>\n",
       "    </tr>\n",
       "    <tr>\n",
       "      <th>1</th>\n",
       "      <td>Modern American Poetry</td>\n",
       "      <td>4.4</td>\n",
       "      <td>Beginner level</td>\n",
       "      <td>Approx. 34 hours to complete</td>\n",
       "      <td>Flexible schedule</td>\n",
       "      <td>100 reviews</td>\n",
       "      <td>NaN</td>\n",
       "      <td>[]</td>\n",
       "      <td>['Orientation', 'Module 1', 'Module 2', 'Modul...</td>\n",
       "      <td>['Cary Nelson']</td>\n",
       "      <td>['University of Illinois at Urbana-Champaign']</td>\n",
       "      <td>Arts and Humanities</td>\n",
       "      <td>https://www.coursera.org/learn/modern-american...</td>\n",
       "    </tr>\n",
       "    <tr>\n",
       "      <th>2</th>\n",
       "      <td>Pixel Art for Video Games</td>\n",
       "      <td>4.5</td>\n",
       "      <td>Beginner level</td>\n",
       "      <td>9 hours (approximately)</td>\n",
       "      <td>Flexible schedule</td>\n",
       "      <td>227 reviews</td>\n",
       "      <td>NaN</td>\n",
       "      <td>[]</td>\n",
       "      <td>['Week 1: Introduction to Pixel Art', 'Week 2:...</td>\n",
       "      <td>['Andrew Dennis', 'Ricardo Guimaraes']</td>\n",
       "      <td>['Michigan State University']</td>\n",
       "      <td>Arts and Humanities</td>\n",
       "      <td>https://www.coursera.org/learn/pixel-art-video...</td>\n",
       "    </tr>\n",
       "    <tr>\n",
       "      <th>3</th>\n",
       "      <td>Distribución digital de la música independiente</td>\n",
       "      <td>NaN</td>\n",
       "      <td>Beginner level</td>\n",
       "      <td>Approx. 8 hours to complete</td>\n",
       "      <td>Flexible schedule</td>\n",
       "      <td>NaN</td>\n",
       "      <td>NaN</td>\n",
       "      <td>[]</td>\n",
       "      <td>['Semana 1', 'Semana 2', 'Semana 3', 'Semana 4']</td>\n",
       "      <td>['Eduardo de la Vara Brown.']</td>\n",
       "      <td>['SAE Institute México']</td>\n",
       "      <td>Arts and Humanities</td>\n",
       "      <td>https://www.coursera.org/learn/distribucion-di...</td>\n",
       "    </tr>\n",
       "    <tr>\n",
       "      <th>4</th>\n",
       "      <td>The Blues: Understanding and Performing an Ame...</td>\n",
       "      <td>4.8</td>\n",
       "      <td>Beginner level</td>\n",
       "      <td>Approx. 11 hours to complete</td>\n",
       "      <td>Flexible schedule</td>\n",
       "      <td>582 reviews</td>\n",
       "      <td>Students will be able to describe the blues as...</td>\n",
       "      <td>['Music', 'Chord', 'Jazz', 'Jazz Improvisation']</td>\n",
       "      <td>['Blues Progressions – Theory and Practice ', ...</td>\n",
       "      <td>['Dariusz Terefenko']</td>\n",
       "      <td>['University of Rochester']</td>\n",
       "      <td>Arts and Humanities</td>\n",
       "      <td>https://www.coursera.org/learn/the-blues</td>\n",
       "    </tr>\n",
       "  </tbody>\n",
       "</table>\n",
       "</div>"
      ],
      "text/plain": [
       "                                        Course Title  Rating           Level  \\\n",
       "0                                  Fashion as Design     4.8  Beginner level   \n",
       "1                             Modern American Poetry     4.4  Beginner level   \n",
       "2                          Pixel Art for Video Games     4.5  Beginner level   \n",
       "3    Distribución digital de la música independiente     NaN  Beginner level   \n",
       "4  The Blues: Understanding and Performing an Ame...     4.8  Beginner level   \n",
       "\n",
       "                       Duration           Schedule         Review  \\\n",
       "0      20 hours (approximately)  Flexible schedule  2,813 reviews   \n",
       "1  Approx. 34 hours to complete  Flexible schedule    100 reviews   \n",
       "2       9 hours (approximately)  Flexible schedule    227 reviews   \n",
       "3   Approx. 8 hours to complete  Flexible schedule            NaN   \n",
       "4  Approx. 11 hours to complete  Flexible schedule    582 reviews   \n",
       "\n",
       "                                 What you will learn  \\\n",
       "0                                                NaN   \n",
       "1                                                NaN   \n",
       "2                                                NaN   \n",
       "3                                                NaN   \n",
       "4  Students will be able to describe the blues as...   \n",
       "\n",
       "                                         Skill gain  \\\n",
       "0   ['Art History', 'Art', 'History', 'Creativity']   \n",
       "1                                                []   \n",
       "2                                                []   \n",
       "3                                                []   \n",
       "4  ['Music', 'Chord', 'Jazz', 'Jazz Improvisation']   \n",
       "\n",
       "                                             Modules  \\\n",
       "0  ['Introduction', 'Heroes', 'Silhouettes', 'Cou...   \n",
       "1  ['Orientation', 'Module 1', 'Module 2', 'Modul...   \n",
       "2  ['Week 1: Introduction to Pixel Art', 'Week 2:...   \n",
       "3   ['Semana 1', 'Semana 2', 'Semana 3', 'Semana 4']   \n",
       "4  ['Blues Progressions – Theory and Practice ', ...   \n",
       "\n",
       "                                          Instructor  \\\n",
       "0  ['Anna Burckhardt', 'Paola Antonelli', 'Michel...   \n",
       "1                                    ['Cary Nelson']   \n",
       "2             ['Andrew Dennis', 'Ricardo Guimaraes']   \n",
       "3                      ['Eduardo de la Vara Brown.']   \n",
       "4                              ['Dariusz Terefenko']   \n",
       "\n",
       "                                       Offered By              Keyword  \\\n",
       "0                    ['The Museum of Modern Art']  Arts and Humanities   \n",
       "1  ['University of Illinois at Urbana-Champaign']  Arts and Humanities   \n",
       "2                   ['Michigan State University']  Arts and Humanities   \n",
       "3                        ['SAE Institute México']  Arts and Humanities   \n",
       "4                     ['University of Rochester']  Arts and Humanities   \n",
       "\n",
       "                                          Course Url  \n",
       "0      https://www.coursera.org/learn/fashion-design  \n",
       "1  https://www.coursera.org/learn/modern-american...  \n",
       "2  https://www.coursera.org/learn/pixel-art-video...  \n",
       "3  https://www.coursera.org/learn/distribucion-di...  \n",
       "4           https://www.coursera.org/learn/the-blues  "
      ]
     },
     "execution_count": 393,
     "metadata": {},
     "output_type": "execute_result"
    }
   ],
   "source": [
    "dataFrame.head()"
   ]
  },
  {
   "cell_type": "markdown",
   "metadata": {},
   "source": [
    "Imprimir la cantidad de registros que ha leído del archivo CSV\n"
   ]
  },
  {
   "cell_type": "code",
   "execution_count": 394,
   "metadata": {},
   "outputs": [
    {
     "name": "stdout",
     "output_type": "stream",
     "text": [
      "Filas: 9595\n"
     ]
    }
   ],
   "source": [
    "print(f\"Filas: {len(dataFrame)}\")"
   ]
  },
  {
   "cell_type": "markdown",
   "metadata": {},
   "source": [
    "## Limpieza de datos\n",
    "\n",
    "Ahora procedemos a hacer limpieza de datos.\n",
    "Lo primero será buscar los valores `NaN` dentro del archivo, para esto se utilizarán las funciones `isna()` y `sum()` que nos de devolverán los totales de cada columna\n"
   ]
  },
  {
   "cell_type": "code",
   "execution_count": 395,
   "metadata": {},
   "outputs": [
    {
     "data": {
      "text/plain": [
       "Course Title              0\n",
       "Rating                 1439\n",
       "Level                  1265\n",
       "Duration                262\n",
       "Schedule                683\n",
       "Review                 1443\n",
       "What you will learn    4611\n",
       "Skill gain                0\n",
       "Modules                   0\n",
       "Instructor                0\n",
       "Offered By                0\n",
       "Keyword                   0\n",
       "Course Url                0\n",
       "dtype: int64"
      ]
     },
     "execution_count": 395,
     "metadata": {},
     "output_type": "execute_result"
    }
   ],
   "source": [
    "dataFrame.isna().sum()"
   ]
  },
  {
   "cell_type": "markdown",
   "metadata": {},
   "source": [
    "### Rating\n",
    "\n",
    "Según la tabla anterior, el 15% (1439 filas) de los valores de `Rating` son `NaN` por lo que colocarles un valor de _cero_ podría romper la tendencia o distorcionar los cálculos, se optará por rellenar esos datos con la **`media`** de la columna.\n"
   ]
  },
  {
   "cell_type": "code",
   "execution_count": 396,
   "metadata": {},
   "outputs": [],
   "source": [
    "mean_rating = round(dataFrame['Rating'].mean(), 2)\n",
    "dataFrame['Rating'] = dataFrame['Rating'].fillna(mean_rating)"
   ]
  },
  {
   "cell_type": "markdown",
   "metadata": {},
   "source": [
    "Ahora se podrá visualizar una nueva fila con `Rating` igual a la `media` de los valores.\n"
   ]
  },
  {
   "cell_type": "code",
   "execution_count": 397,
   "metadata": {},
   "outputs": [
    {
     "data": {
      "text/plain": [
       "Rating\n",
       "4.80    2180\n",
       "4.70    2083\n",
       "4.65    1439\n",
       "4.60    1250\n",
       "4.90     823\n",
       "4.50     742\n",
       "4.40     362\n",
       "4.30     206\n",
       "4.20     146\n",
       "4.10      86\n",
       "5.00      75\n",
       "3.90      45\n",
       "4.00      44\n",
       "3.80      28\n",
       "3.30      16\n",
       "3.70      15\n",
       "3.40      12\n",
       "3.60      10\n",
       "3.50       9\n",
       "3.10       8\n",
       "3.20       7\n",
       "3.00       3\n",
       "1.50       3\n",
       "2.50       3\n",
       "Name: count, dtype: int64"
      ]
     },
     "execution_count": 397,
     "metadata": {},
     "output_type": "execute_result"
    }
   ],
   "source": [
    "dataFrame['Rating'].value_counts()"
   ]
  },
  {
   "cell_type": "markdown",
   "metadata": {},
   "source": [
    "### Level\n",
    "\n",
    "Se colocarán como \"Indefinidos\" (Undefined) los cursos que no posean nivel (Level)"
   ]
  },
  {
   "cell_type": "code",
   "execution_count": 398,
   "metadata": {},
   "outputs": [],
   "source": [
    "dataFrame['Level'] = dataFrame['Level'].fillna('Undefined')"
   ]
  },
  {
   "cell_type": "markdown",
   "metadata": {},
   "source": [
    "Visualizar el listado de valores de la columna `Level`"
   ]
  },
  {
   "cell_type": "code",
   "execution_count": 399,
   "metadata": {},
   "outputs": [
    {
     "data": {
      "text/plain": [
       "Level\n",
       "Beginner level        5689\n",
       "Intermediate level    2360\n",
       "Undefined             1265\n",
       "Advanced level         281\n",
       "Name: count, dtype: int64"
      ]
     },
     "execution_count": 399,
     "metadata": {},
     "output_type": "execute_result"
    }
   ],
   "source": [
    "dataFrame['Level'].value_counts()"
   ]
  },
  {
   "cell_type": "markdown",
   "metadata": {},
   "source": [
    "### Duration"
   ]
  },
  {
   "cell_type": "code",
   "execution_count": 400,
   "metadata": {},
   "outputs": [
    {
     "name": "stderr",
     "output_type": "stream",
     "text": [
      "<>:5: SyntaxWarning: invalid escape sequence '\\d'\n",
      "<>:5: SyntaxWarning: invalid escape sequence '\\d'\n",
      "/tmp/ipykernel_5585/661280765.py:5: SyntaxWarning: invalid escape sequence '\\d'\n",
      "  dataFrame['Duration'] = dataFrame['Duration'].str.extract('(\\d+)')\n"
     ]
    }
   ],
   "source": [
    "dataFrame['Duration'] = dataFrame['Duration'].str.replace(',', '')\n",
    "dataFrame['Duration'] = dataFrame['Duration'].str.replace('.', '')\n",
    "dataFrame['Duration'] = dataFrame['Duration'].str.replace('(', '')\n",
    "dataFrame['Duration'] = dataFrame['Duration'].str.replace(')', '')\n",
    "dataFrame['Duration'] = dataFrame['Duration'].str.extract('(\\d+)')\n",
    "dataFrame['Duration'] = dataFrame['Duration'].fillna(0)"
   ]
  },
  {
   "cell_type": "markdown",
   "metadata": {},
   "source": [
    "### Review"
   ]
  },
  {
   "cell_type": "code",
   "execution_count": 401,
   "metadata": {},
   "outputs": [
    {
     "name": "stderr",
     "output_type": "stream",
     "text": [
      "<>:2: SyntaxWarning: invalid escape sequence '\\d'\n",
      "<>:2: SyntaxWarning: invalid escape sequence '\\d'\n",
      "/tmp/ipykernel_5585/231261469.py:2: SyntaxWarning: invalid escape sequence '\\d'\n",
      "  dataFrame['Review'] = dataFrame['Review'].str.extract('(^\\d*)')\n"
     ]
    }
   ],
   "source": [
    "dataFrame['Review'] = dataFrame['Review'].str.replace(',', '')\n",
    "dataFrame['Review'] = dataFrame['Review'].str.extract('(^\\d*)')\n",
    "dataFrame['Review'] = dataFrame['Review'].fillna(0)\n"
   ]
  },
  {
   "cell_type": "markdown",
   "metadata": {},
   "source": [
    "## Cálculos\n",
    "\n",
    "Ahora se mostrarán algunos cálculos sobre los datos limpios\n"
   ]
  },
  {
   "cell_type": "markdown",
   "metadata": {},
   "source": [
    "### 1. Promedio de calificación por curso\n"
   ]
  },
  {
   "cell_type": "code",
   "execution_count": 402,
   "metadata": {},
   "outputs": [
    {
     "data": {
      "text/plain": [
       "Course Title\n",
       " Assisting Public Sector Decision Makers With Policy Analysis                                                          4.80\n",
       " Atención prehospitalaria del ictus agudo y selección de pacientes para tratamiento endovascular con la escala RACE    4.90\n",
       " Build a social media presence for your business using Canva                                                           4.70\n",
       " Build social awareness content for Twitter with Canva                                                                 4.65\n",
       " Comercio, Inmigración y Tipos de Cambio en un Mundo Globalizado                                                       4.90\n",
       "                                                                                                                       ... \n",
       "현대 로봇공학, 강좌 2: 로봇 기구학                                                                                                  4.65\n",
       "현대 로봇공학, 강좌 3: 로봇 동역학                                                                                                  4.65\n",
       "현대 로봇공학, 강좌 4: 로봇 동작 계획 및 제어                                                                                           4.65\n",
       "현대 로봇공학, 강좌 5:  로봇 매니퓰레이션 및 차륜형 이동 로봇                                                                                  4.65\n",
       "현대 로봇공학, 강좌 6: 캡스톤 프로젝트, 모바일 매니퓰레이션                                                                                    4.65\n",
       "Name: Rating, Length: 6392, dtype: float64"
      ]
     },
     "execution_count": 402,
     "metadata": {},
     "output_type": "execute_result"
    }
   ],
   "source": [
    "dataFrame.groupby('Course Title')['Rating'].mean()"
   ]
  },
  {
   "cell_type": "markdown",
   "metadata": {},
   "source": [
    "**Conclusión:** Se puede visualizar en en la gran mayoría de cursos los estudiantes dan una calificación superior a 4.5 lo cual significa un 90% de aprobación"
   ]
  },
  {
   "cell_type": "markdown",
   "metadata": {},
   "source": [
    "### 2. Cursos con mayor y menor rating\n"
   ]
  },
  {
   "cell_type": "code",
   "execution_count": 403,
   "metadata": {},
   "outputs": [
    {
     "data": {
      "text/html": [
       "<div>\n",
       "<style scoped>\n",
       "    .dataframe tbody tr th:only-of-type {\n",
       "        vertical-align: middle;\n",
       "    }\n",
       "\n",
       "    .dataframe tbody tr th {\n",
       "        vertical-align: top;\n",
       "    }\n",
       "\n",
       "    .dataframe thead th {\n",
       "        text-align: right;\n",
       "    }\n",
       "</style>\n",
       "<table border=\"1\" class=\"dataframe\">\n",
       "  <thead>\n",
       "    <tr style=\"text-align: right;\">\n",
       "      <th></th>\n",
       "      <th>Course Title</th>\n",
       "      <th>Rating</th>\n",
       "      <th>Level</th>\n",
       "      <th>Duration</th>\n",
       "      <th>Schedule</th>\n",
       "      <th>Review</th>\n",
       "      <th>What you will learn</th>\n",
       "      <th>Skill gain</th>\n",
       "      <th>Modules</th>\n",
       "      <th>Instructor</th>\n",
       "      <th>Offered By</th>\n",
       "      <th>Keyword</th>\n",
       "      <th>Course Url</th>\n",
       "    </tr>\n",
       "  </thead>\n",
       "  <tbody>\n",
       "    <tr>\n",
       "      <th>4092</th>\n",
       "      <td>Compromiso del paciente: resultados clínicos s...</td>\n",
       "      <td>5.0</td>\n",
       "      <td>Beginner level</td>\n",
       "      <td>2</td>\n",
       "      <td>Flexible schedule</td>\n",
       "      <td>5</td>\n",
       "      <td>NaN</td>\n",
       "      <td>['Colaboración', 'Toma de decisiones', 'Gestió...</td>\n",
       "      <td>['Atención centrada en el paciente', 'Calidad ...</td>\n",
       "      <td>['Efrain Navarro Olivos', 'Manuel Pérez Jiméne...</td>\n",
       "      <td>['Tecnológico de Monterrey']</td>\n",
       "      <td>Health</td>\n",
       "      <td>https://www.coursera.org/specializations/compr...</td>\n",
       "    </tr>\n",
       "    <tr>\n",
       "      <th>5151</th>\n",
       "      <td>Build a computer vision app with Azure Cogniti...</td>\n",
       "      <td>1.5</td>\n",
       "      <td>Intermediate level</td>\n",
       "      <td>0</td>\n",
       "      <td>NaN</td>\n",
       "      <td>129</td>\n",
       "      <td>Create a Computer Vision Cognitive Services re...</td>\n",
       "      <td>['Artificial Intelligence (AI)', 'Software Dev...</td>\n",
       "      <td>['Learn step-by-step']</td>\n",
       "      <td>['Catalin Popa']</td>\n",
       "      <td>['Microsoft']</td>\n",
       "      <td>Information Technology</td>\n",
       "      <td>https://www.coursera.org/projects/build-a-comp...</td>\n",
       "    </tr>\n",
       "  </tbody>\n",
       "</table>\n",
       "</div>"
      ],
      "text/plain": [
       "                                           Course Title  Rating  \\\n",
       "4092  Compromiso del paciente: resultados clínicos s...     5.0   \n",
       "5151  Build a computer vision app with Azure Cogniti...     1.5   \n",
       "\n",
       "                   Level Duration           Schedule Review  \\\n",
       "4092      Beginner level        2  Flexible schedule      5   \n",
       "5151  Intermediate level        0                NaN    129   \n",
       "\n",
       "                                    What you will learn  \\\n",
       "4092                                                NaN   \n",
       "5151  Create a Computer Vision Cognitive Services re...   \n",
       "\n",
       "                                             Skill gain  \\\n",
       "4092  ['Colaboración', 'Toma de decisiones', 'Gestió...   \n",
       "5151  ['Artificial Intelligence (AI)', 'Software Dev...   \n",
       "\n",
       "                                                Modules  \\\n",
       "4092  ['Atención centrada en el paciente', 'Calidad ...   \n",
       "5151                             ['Learn step-by-step']   \n",
       "\n",
       "                                             Instructor  \\\n",
       "4092  ['Efrain Navarro Olivos', 'Manuel Pérez Jiméne...   \n",
       "5151                                   ['Catalin Popa']   \n",
       "\n",
       "                        Offered By                 Keyword  \\\n",
       "4092  ['Tecnológico de Monterrey']                  Health   \n",
       "5151                 ['Microsoft']  Information Technology   \n",
       "\n",
       "                                             Course Url  \n",
       "4092  https://www.coursera.org/specializations/compr...  \n",
       "5151  https://www.coursera.org/projects/build-a-comp...  "
      ]
     },
     "execution_count": 403,
     "metadata": {},
     "output_type": "execute_result"
    }
   ],
   "source": [
    "sorted_rating = dataFrame.sort_values('Rating')\n",
    "\n",
    "sorted_rating.iloc[[-1, 0]]\n"
   ]
  },
  {
   "cell_type": "markdown",
   "metadata": {},
   "source": [
    "### 3. Porcentaje de cursos con horario flexible\n"
   ]
  },
  {
   "cell_type": "code",
   "execution_count": 404,
   "metadata": {},
   "outputs": [
    {
     "data": {
      "text/plain": [
       "92.88"
      ]
     },
     "execution_count": 404,
     "metadata": {},
     "output_type": "execute_result"
    }
   ],
   "source": [
    "flexible_schedule = len(dataFrame[dataFrame['Schedule'] == \"Flexible schedule\"])\n",
    "total_schedule = len(dataFrame['Schedule'])\n",
    "\n",
    "round((flexible_schedule / total_schedule) * 100, 2)"
   ]
  },
  {
   "cell_type": "markdown",
   "metadata": {},
   "source": [
    "### Conclusión\n",
    "\n",
    "**NumPy** proporciona estructuras de datos eficientes como arrays y matrices, permitiendo realizar cálculos numéricos rápidos y optimizados, esenciales para manejar grandes cantidades de datos. **Pandas**, por su parte, ofrece estructuras como **DataFrames** y **Series** que simplifican la manipulación y análisis de datos estructurados, facilitando tareas como filtrado y agrupación. Ambas bibliotecas son complementarias y fundamentales para el análisis de datos en Python."
   ]
  },
  {
   "cell_type": "markdown",
   "metadata": {},
   "source": [
    "## Análisis de texto"
   ]
  },
  {
   "cell_type": "markdown",
   "metadata": {},
   "source": [
    "### Leer el archivo"
   ]
  },
  {
   "cell_type": "code",
   "execution_count": 405,
   "metadata": {},
   "outputs": [],
   "source": [
    "coursera_comments_file = open('archivos_entrada/Coursera Comments.txt')\n",
    "\n",
    "coursera_comments = coursera_comments_file.read()"
   ]
  },
  {
   "cell_type": "markdown",
   "metadata": {},
   "source": [
    "### NLTK"
   ]
  },
  {
   "cell_type": "markdown",
   "metadata": {},
   "source": [
    "Instalar la librería `NLTK` con `pip`"
   ]
  },
  {
   "cell_type": "code",
   "execution_count": 406,
   "metadata": {},
   "outputs": [
    {
     "name": "stdout",
     "output_type": "stream",
     "text": [
      "Defaulting to user installation because normal site-packages is not writeable\n",
      "Requirement already satisfied: nltk in /home/feli/.local/lib/python3.12/site-packages (3.9.1)\n",
      "Requirement already satisfied: click in /usr/lib/python3.12/site-packages (from nltk) (8.1.7)\n",
      "Requirement already satisfied: joblib in /home/feli/.local/lib/python3.12/site-packages (from nltk) (1.4.2)\n",
      "Requirement already satisfied: regex>=2021.8.3 in /usr/lib64/python3.12/site-packages (from nltk) (2024.4.28)\n",
      "Requirement already satisfied: tqdm in /home/feli/.local/lib/python3.12/site-packages (from nltk) (4.66.5)\n",
      "Note: you may need to restart the kernel to use updated packages.\n"
     ]
    }
   ],
   "source": [
    "pip install nltk"
   ]
  },
  {
   "cell_type": "markdown",
   "metadata": {},
   "source": [
    "Comprobar la versión instalada"
   ]
  },
  {
   "cell_type": "code",
   "execution_count": 407,
   "metadata": {},
   "outputs": [
    {
     "data": {
      "text/plain": [
       "'3.9.1'"
      ]
     },
     "execution_count": 407,
     "metadata": {},
     "output_type": "execute_result"
    }
   ],
   "source": [
    "import nltk\n",
    "nltk.__version__"
   ]
  },
  {
   "cell_type": "markdown",
   "metadata": {},
   "source": [
    "Descarga de archivos necesarios para el análisis"
   ]
  },
  {
   "cell_type": "code",
   "execution_count": 408,
   "metadata": {},
   "outputs": [
    {
     "name": "stderr",
     "output_type": "stream",
     "text": [
      "[nltk_data] Downloading package punkt_tab to /home/feli/nltk_data...\n",
      "[nltk_data]   Package punkt_tab is already up-to-date!\n",
      "[nltk_data] Downloading package stopwords to /home/feli/nltk_data...\n",
      "[nltk_data]   Package stopwords is already up-to-date!\n",
      "[nltk_data] Downloading package wordnet to /home/feli/nltk_data...\n",
      "[nltk_data]   Package wordnet is already up-to-date!\n",
      "[nltk_data] Downloading package omw-1.4 to /home/feli/nltk_data...\n",
      "[nltk_data]   Package omw-1.4 is already up-to-date!\n",
      "[nltk_data] Downloading package averaged_perceptron_tagger to\n",
      "[nltk_data]     /home/feli/nltk_data...\n",
      "[nltk_data]   Package averaged_perceptron_tagger is already up-to-\n",
      "[nltk_data]       date!\n",
      "[nltk_data] Downloading package vader_lexicon to\n",
      "[nltk_data]     /home/feli/nltk_data...\n",
      "[nltk_data]   Package vader_lexicon is already up-to-date!\n",
      "[nltk_data] Downloading package maxent_ne_chunker to\n",
      "[nltk_data]     /home/feli/nltk_data...\n",
      "[nltk_data]   Package maxent_ne_chunker is already up-to-date!\n",
      "[nltk_data] Downloading package words to /home/feli/nltk_data...\n",
      "[nltk_data]   Package words is already up-to-date!\n"
     ]
    },
    {
     "data": {
      "text/plain": [
       "True"
      ]
     },
     "execution_count": 408,
     "metadata": {},
     "output_type": "execute_result"
    }
   ],
   "source": [
    "nltk.download('punkt_tab')\n",
    "nltk.download('stopwords')\n",
    "nltk.download('wordnet')\n",
    "nltk.download('omw-1.4')\n",
    "nltk.download('averaged_perceptron_tagger')\n",
    "nltk.download('vader_lexicon')\n",
    "nltk.download('maxent_ne_chunker')\n",
    "nltk.download('words')"
   ]
  },
  {
   "cell_type": "markdown",
   "metadata": {},
   "source": [
    "### Tokenización\n",
    "\n",
    "Es el proceso de dividir un texto en unidades más pequeñas llamadas tokens (pueden ser palabras, frases o caracteres). Es el primer paso en el procesamiento de texto para analizar cada token de forma individual."
   ]
  },
  {
   "cell_type": "markdown",
   "metadata": {},
   "source": [
    "Importación de las librerías `word_tokenize`, `sent_tokenize`"
   ]
  },
  {
   "cell_type": "code",
   "execution_count": 409,
   "metadata": {},
   "outputs": [],
   "source": [
    "from nltk.tokenize import word_tokenize, sent_tokenize"
   ]
  },
  {
   "cell_type": "markdown",
   "metadata": {},
   "source": [
    "Hacer tokenizado de palabras"
   ]
  },
  {
   "cell_type": "code",
   "execution_count": 410,
   "metadata": {},
   "outputs": [],
   "source": [
    "#print(sent_tokenize(sentence))\n",
    "word_tokenize_result = word_tokenize(coursera_comments)\n",
    "f = open(\"archivos_entrada/word_tokenize.json\", \"w\")\n",
    "f.write(str(word_tokenize_result))\n",
    "f.close()"
   ]
  },
  {
   "cell_type": "markdown",
   "metadata": {},
   "source": [
    "Hacer tokenizado de oraciones"
   ]
  },
  {
   "cell_type": "code",
   "execution_count": 411,
   "metadata": {},
   "outputs": [],
   "source": [
    "sent_tokenize_result = sent_tokenize(coursera_comments)\n",
    "f = open(\"archivos_entrada/sent_tokenize.json\", \"w\")\n",
    "f.write(str(sent_tokenize_result))\n",
    "f.close()"
   ]
  },
  {
   "cell_type": "markdown",
   "metadata": {},
   "source": [
    "### Palabras vacías (stopwords)\n",
    "\n",
    "Las **palabras vacías** (o stop words) son aquellas que no añaden valor al análisis (por ejemplo: \"el\", \"la\", \"y\", \"pero\"). Eliminarlas ayuda a enfocarse en las palabras más importantes."
   ]
  },
  {
   "cell_type": "markdown",
   "metadata": {},
   "source": [
    "Importación de la librería `stopwords`"
   ]
  },
  {
   "cell_type": "code",
   "execution_count": 412,
   "metadata": {},
   "outputs": [],
   "source": [
    "from nltk.corpus import stopwords"
   ]
  },
  {
   "cell_type": "code",
   "execution_count": 413,
   "metadata": {},
   "outputs": [],
   "source": [
    "stop_words = set(stopwords.words('spanish'))\n",
    "\n",
    "without_stopwords_tokens = [word for word in word_tokenize_result if word.lower() not in stop_words]"
   ]
  },
  {
   "cell_type": "markdown",
   "metadata": {},
   "source": [
    "### Lematización y Stemming"
   ]
  },
  {
   "cell_type": "markdown",
   "metadata": {},
   "source": [
    "Importación de las librerías `WordNetLemmatizer`, `PorterStemmer`"
   ]
  },
  {
   "cell_type": "code",
   "execution_count": 414,
   "metadata": {},
   "outputs": [],
   "source": [
    "from nltk.stem import WordNetLemmatizer, PorterStemmer, SnowballStemmer"
   ]
  },
  {
   "cell_type": "markdown",
   "metadata": {},
   "source": [
    "#### Lematización\n",
    "Es el proceso de reducir una palabra a su forma base o lema, teniendo en cuenta su contexto gramatical."
   ]
  },
  {
   "cell_type": "code",
   "execution_count": 415,
   "metadata": {},
   "outputs": [],
   "source": [
    "lemmatizer = WordNetLemmatizer()\n",
    "lemmatized_tokens = [lemmatizer.lemmatize(w) for w in without_stopwords_tokens]"
   ]
  },
  {
   "cell_type": "markdown",
   "metadata": {},
   "source": [
    "#### Stemming\n",
    "\n",
    "Reduce una palabra a su raíz básica sin tener en cuenta el contexto."
   ]
  },
  {
   "cell_type": "code",
   "execution_count": 416,
   "metadata": {},
   "outputs": [],
   "source": [
    "stemmer = SnowballStemmer('spanish')\n",
    "stemmed_tokens = [stemmer.stem(word) for word in without_stopwords_tokens]"
   ]
  },
  {
   "cell_type": "markdown",
   "metadata": {},
   "source": [
    "### Frecuencia de palabras\n",
    "\n",
    "El análisis de la frecuencia de palabras permite contar cuántas veces aparece cada palabra en un texto. Esto es útil para identificar los términos más relevantes."
   ]
  },
  {
   "cell_type": "markdown",
   "metadata": {},
   "source": [
    "Importación de la librería `FreqDist`"
   ]
  },
  {
   "cell_type": "code",
   "execution_count": 479,
   "metadata": {},
   "outputs": [],
   "source": [
    "from nltk.probability import FreqDist"
   ]
  },
  {
   "cell_type": "code",
   "execution_count": 480,
   "metadata": {},
   "outputs": [
    {
     "data": {
      "text/plain": [
       "FreqDist({',': 6799, '.': 6702, 'curso': 1297, ':': 887, '“': 869, '”': 869, 'Semana': 843, '-': 839, 'TA': 835, 'participantes': 822, ...})"
      ]
     },
     "execution_count": 480,
     "metadata": {},
     "output_type": "execute_result"
    }
   ],
   "source": [
    "frequency_words = FreqDist(without_stopwords_tokens)\n",
    "frequency_words"
   ]
  },
  {
   "cell_type": "markdown",
   "metadata": {},
   "source": [
    "### Análisis de sentimientos\n",
    "\n",
    "El análisis de sentimientos evalúa el tono emocional de un texto (positivo, negativo o neutral). Para esto se utilizan librerías pre-entrenadas."
   ]
  },
  {
   "cell_type": "markdown",
   "metadata": {},
   "source": [
    "Importación de la librería `SentimentIntensityAnalyzer`"
   ]
  },
  {
   "cell_type": "code",
   "execution_count": 419,
   "metadata": {},
   "outputs": [],
   "source": [
    "from nltk.sentiment import SentimentIntensityAnalyzer"
   ]
  },
  {
   "cell_type": "code",
   "execution_count": 420,
   "metadata": {},
   "outputs": [
    {
     "data": {
      "text/plain": [
       "{'neg': 0.035, 'neu': 0.954, 'pos': 0.011, 'compound': -1.0}"
      ]
     },
     "execution_count": 420,
     "metadata": {},
     "output_type": "execute_result"
    }
   ],
   "source": [
    "sentiment_analyzer = SentimentIntensityAnalyzer()\n",
    "sentiments = sentiment_analyzer.polarity_scores(coursera_comments)\n",
    "sentiments"
   ]
  },
  {
   "cell_type": "markdown",
   "metadata": {},
   "source": []
  },
  {
   "cell_type": "markdown",
   "metadata": {},
   "source": [
    "### Reconocimiento de Entidades Nombradas (NER)\n",
    "\n",
    "El Reconocimiento de Entidades Nombradas (NER) es el proceso de identificar entidades como personas, organizaciones, lugares, etc., en un texto."
   ]
  },
  {
   "cell_type": "markdown",
   "metadata": {},
   "source": [
    "Importar las librerías"
   ]
  },
  {
   "cell_type": "code",
   "execution_count": 421,
   "metadata": {},
   "outputs": [],
   "source": [
    "from nltk import ne_chunk, pos_tag"
   ]
  },
  {
   "cell_type": "markdown",
   "metadata": {},
   "source": [
    "Etiquetado de palabras"
   ]
  },
  {
   "cell_type": "code",
   "execution_count": 422,
   "metadata": {},
   "outputs": [],
   "source": [
    "#tokens_pos = pos_tag([without_stopwords_tokens])\n",
    "#without_stopwords_tokens"
   ]
  },
  {
   "cell_type": "code",
   "execution_count": 423,
   "metadata": {},
   "outputs": [],
   "source": [
    "#entidades = ne_chunk(tokens_pos)\n",
    "#entidades"
   ]
  },
  {
   "cell_type": "markdown",
   "metadata": {},
   "source": [
    "### Extracción de Entidades\n",
    "\n",
    "La extracción de entidades es un paso adicional al NER, donde se extraen las entidades identificadas para su posterior análisis."
   ]
  },
  {
   "cell_type": "code",
   "execution_count": 424,
   "metadata": {},
   "outputs": [
    {
     "data": {
      "text/plain": [
       "\"def extraer_entidades(tree):\\n    entidades = []\\n    for subtree in tree:\\n        if hasattr(subtree, 'label') and subtree.label:\\n            entidad = ' '.join([hijo[0] for hijo in subtree.leaves()])\\n            entidades.append(entidad)\\n    return entidades\\n\\nentidades_extraidas = extraer_entidades(entidades)\\nprint(entidades_extraidas)\\n\""
      ]
     },
     "execution_count": 424,
     "metadata": {},
     "output_type": "execute_result"
    }
   ],
   "source": [
    "# Función para extraer entidades nombradas\n",
    "'''def extraer_entidades(tree):\n",
    "    entidades = []\n",
    "    for subtree in tree:\n",
    "        if hasattr(subtree, 'label') and subtree.label:\n",
    "            entidad = ' '.join([hijo[0] for hijo in subtree.leaves()])\n",
    "            entidades.append(entidad)\n",
    "    return entidades\n",
    "\n",
    "entidades_extraidas = extraer_entidades(entidades)\n",
    "print(entidades_extraidas)\n",
    "'''\n"
   ]
  },
  {
   "cell_type": "markdown",
   "metadata": {},
   "source": [
    "### Conclusión\n",
    "\n",
    "Cada una de estas técnicas es esencial en el análisis de datos textuales. A través de la tokenización, se puede dividir un texto en sus componentes básicos; con la lematización y stemming, se pueden reducir las palabras a su forma raíz; la eliminación de palabras vacías elimina el ruido en los datos; la frecuencia de palabras revela patrones importantes; el análisis de sentimientos evalúa emociones en el texto; y con el reconocimiento y extracción de entidades, se pueden identificar elementos clave como nombres de personas o lugares."
   ]
  },
  {
   "cell_type": "markdown",
   "metadata": {},
   "source": [
    "## Gráficos"
   ]
  },
  {
   "cell_type": "code",
   "execution_count": 425,
   "metadata": {},
   "outputs": [
    {
     "name": "stdout",
     "output_type": "stream",
     "text": [
      "Defaulting to user installation because normal site-packages is not writeable\n",
      "Requirement already satisfied: matplotlib in /home/feli/.local/lib/python3.12/site-packages (3.9.2)\n",
      "Requirement already satisfied: contourpy>=1.0.1 in /home/feli/.local/lib/python3.12/site-packages (from matplotlib) (1.3.0)\n",
      "Requirement already satisfied: cycler>=0.10 in /home/feli/.local/lib/python3.12/site-packages (from matplotlib) (0.12.1)\n",
      "Requirement already satisfied: fonttools>=4.22.0 in /home/feli/.local/lib/python3.12/site-packages (from matplotlib) (4.54.1)\n",
      "Requirement already satisfied: kiwisolver>=1.3.1 in /home/feli/.local/lib/python3.12/site-packages (from matplotlib) (1.4.7)\n",
      "Requirement already satisfied: numpy>=1.23 in /home/feli/.local/lib/python3.12/site-packages (from matplotlib) (2.1.1)\n",
      "Requirement already satisfied: packaging>=20.0 in /usr/lib/python3.12/site-packages (from matplotlib) (23.2)\n",
      "Requirement already satisfied: pillow>=8 in /usr/lib64/python3.12/site-packages (from matplotlib) (10.3.0)\n",
      "Requirement already satisfied: pyparsing>=2.3.1 in /home/feli/.local/lib/python3.12/site-packages (from matplotlib) (3.1.4)\n",
      "Requirement already satisfied: python-dateutil>=2.7 in /usr/lib/python3.12/site-packages (from matplotlib) (2.8.2)\n",
      "Requirement already satisfied: six>=1.5 in /usr/lib/python3.12/site-packages (from python-dateutil>=2.7->matplotlib) (1.16.0)\n",
      "Note: you may need to restart the kernel to use updated packages.\n"
     ]
    }
   ],
   "source": [
    "pip install matplotlib"
   ]
  },
  {
   "cell_type": "code",
   "execution_count": 426,
   "metadata": {},
   "outputs": [],
   "source": [
    "import matplotlib.pyplot as plt\n",
    "import numpy as np"
   ]
  },
  {
   "cell_type": "markdown",
   "metadata": {},
   "source": [
    "### Cursos por nivel de dificultad"
   ]
  },
  {
   "cell_type": "code",
   "execution_count": 427,
   "metadata": {},
   "outputs": [
    {
     "data": {
      "image/png": "[encoded data removed]",
      "text/plain": [
       "<Figure size 1200x600 with 1 Axes>"
      ]
     },
     "metadata": {},
     "output_type": "display_data"
    }
   ],
   "source": [
    "#dataFrame.head()\n",
    "#dataFrame.groupby('Level')['Course title'].sum()\n",
    "#dataFrame['Level'].isna().sum()\n",
    "#dataFrame['Level'].value_counts()\n",
    "\n",
    "courses_by_level = dataFrame.groupby('Level')['Course Title'].count().reset_index(name='total')\n",
    "#courses_by_level\n",
    "#pd.DataFrame(courses_by_level)\n",
    "\n",
    "#courses_by_level.plot(x='Level', y='total', figsize=(12,4))\n",
    "\n",
    "fig, ax = plt.subplots(figsize=(12, 6))\n",
    "\n",
    "bar_colors = ['tab:red', 'tab:blue', 'tab:green', 'tab:orange']\n",
    "\n",
    "ax.bar(courses_by_level['Level'], courses_by_level['total'], color=bar_colors)\n",
    "\n",
    "ax.set_ylabel(\"Total de cursos\")\n",
    "ax.set_title(\"Cursos por nivel de dificultad\")\n",
    "\n",
    "plt.show()\n"
   ]
  },
  {
   "cell_type": "markdown",
   "metadata": {},
   "source": [
    "#### Conclusión\n",
    "\n",
    "Se puede visualizar que la mayoría de cursos de la plataforma son de nivel inicial, es decir, estos cursos son para introducir al estudiante a cada tema pero no para darle conocimiento profundo."
   ]
  },
  {
   "cell_type": "markdown",
   "metadata": {},
   "source": [
    "### Cursos principales por categoría"
   ]
  },
  {
   "cell_type": "code",
   "execution_count": 428,
   "metadata": {},
   "outputs": [
    {
     "data": {
      "image/png": "[encoded data removed]",
      "text/plain": [
       "<Figure size 1200x600 with 1 Axes>"
      ]
     },
     "metadata": {},
     "output_type": "display_data"
    }
   ],
   "source": [
    "#dataFrame.groupby('Keyword')['Course Title'].count().head(5)#.plot(y='Keyword', figsize=(12,4))\n",
    "#courses_by_category = dataFrame.groupby('Keyword')['Course Title'].count()\n",
    "courses_by_category = dataFrame.groupby('Keyword')['Course Title'].count().reset_index(name='total')\n",
    "#courses_by_category.sort_values('Course Title')\n",
    "#pd.DataFrame(courses_by_category)\n",
    "#courses_by_category.to_frame()\n",
    "courses_by_category = courses_by_category.sort_values('total', ascending=False).head(5)\n",
    "\n",
    "fig, ax = plt.subplots(figsize=(12, 6))\n",
    "\n",
    "bar_colors = ['tab:red', 'tab:blue', 'tab:green', 'tab:orange', 'tab:purple']\n",
    "\n",
    "ax.barh(courses_by_category['Keyword'], courses_by_category['total'], color=bar_colors)\n",
    "\n",
    "ax.set_ylabel(\"Categorías\")\n",
    "ax.set_xlabel(\"Total de cursos\")\n",
    "ax.set_title(\"Cursos principales por categoría\")\n",
    "\n",
    "plt.show()\n"
   ]
  },
  {
   "cell_type": "markdown",
   "metadata": {},
   "source": [
    "### Duración del curso vs número de revisiones"
   ]
  },
  {
   "cell_type": "code",
   "execution_count": 473,
   "metadata": {},
   "outputs": [
    {
     "data": {
      "text/plain": [
       "<matplotlib.collections.PathCollection at 0x7fe5575e8080>"
      ]
     },
     "execution_count": 473,
     "metadata": {},
     "output_type": "execute_result"
    },
    {
     "data": {
      "image/png": "[encoded data removed]",
      "text/plain": [
       "<Figure size 1200x600 with 1 Axes>"
      ]
     },
     "metadata": {},
     "output_type": "display_data"
    }
   ],
   "source": [
    "duration = dataFrame['Duration'].astype(float)\n",
    "review = dataFrame['Review'].astype(float)\n",
    "N = 50\n",
    "colors = np.random.rand(N)\n",
    "\n",
    "plt.figure(figsize=(12,6))\n",
    "plt.title('Duración del curso vs número de revisiones')\n",
    "plt.xlabel('Duración')\n",
    "plt.ylabel('Revisiones')\n",
    "plt.scatter(duration, review, color='red', alpha=0.8)"
   ]
  },
  {
   "cell_type": "markdown",
   "metadata": {},
   "source": [
    "### Distribución de las duraciones de los cursos"
   ]
  },
  {
   "cell_type": "code",
   "execution_count": 478,
   "metadata": {},
   "outputs": [
    {
     "data": {
      "text/plain": [
       "(array([5.675e+03, 2.936e+03, 7.010e+02, 1.880e+02, 5.100e+01, 1.900e+01,\n",
       "        1.600e+01, 3.000e+00, 0.000e+00, 6.000e+00]),\n",
       " array([  0. ,  13.3,  26.6,  39.9,  53.2,  66.5,  79.8,  93.1, 106.4,\n",
       "        119.7, 133. ]),\n",
       " <BarContainer object of 10 artists>)"
      ]
     },
     "execution_count": 478,
     "metadata": {},
     "output_type": "execute_result"
    },
    {
     "data": {
      "image/png": "[encoded data removed]",
      "text/plain": [
       "<Figure size 1200x600 with 1 Axes>"
      ]
     },
     "metadata": {},
     "output_type": "display_data"
    }
   ],
   "source": [
    "n_bins = 10\n",
    "\n",
    "duration = dataFrame['Duration'].astype(float)\n",
    "\n",
    "plt.figure(figsize=(12,6))\n",
    "plt.title('Distribución de las duraciones de los cursos')\n",
    "plt.xlabel('Duración')\n",
    "plt.ylabel('Cursos')\n",
    "plt.hist(duration, n_bins, color='red', edgecolor='black')"
   ]
  },
  {
   "cell_type": "markdown",
   "metadata": {},
   "source": [
    "### Distribución de las calificaciones de los cursos por nivel de dificultad"
   ]
  },
  {
   "cell_type": "code",
   "execution_count": 374,
   "metadata": {},
   "outputs": [
    {
     "data": {
      "image/png": "[encoded data removed]",
      "text/plain": [
       "<Figure size 1200x600 with 1 Axes>"
      ]
     },
     "metadata": {},
     "output_type": "display_data"
    }
   ],
   "source": [
    "np.random.seed(19680801)\n",
    "fruit_weights = [\n",
    "    np.random.normal(130, 10, size=100),\n",
    "    np.random.normal(125, 20, size=100),\n",
    "    np.random.normal(120, 30, size=100),\n",
    "]\n",
    "arr2 = [\n",
    "    dataFrame[dataFrame['Level'] == 'Undefined']['Rating'],\n",
    "    dataFrame[dataFrame['Level'] == 'Beginner level']['Rating'],\n",
    "    dataFrame[dataFrame['Level'] == 'Intermediate level']['Rating'],\n",
    "    dataFrame[dataFrame['Level'] == 'Advanced level']['Rating']\n",
    "]\n",
    "#print(arr2)\n",
    "labels = ['Undefined', 'Beginner level', 'Intermediate level', 'Advanced level']\n",
    "colors = ['peachpuff', 'orange', 'tomato', 'blue']\n",
    "\n",
    "fig, ax = plt.subplots(figsize=(12, 6))\n",
    "ax.set_ylabel('Calificaciones')\n",
    "\n",
    "bplot = ax.boxplot(arr2,\n",
    "                   patch_artist=True,  # fill with color\n",
    "                   tick_labels=labels)  # will be used to label x-ticks\n",
    "\n",
    "# fill with colors\n",
    "for patch, color in zip(bplot['boxes'], colors):\n",
    "    patch.set_facecolor(color)\n",
    "\n",
    "plt.show()"
   ]
  }
 ],
 "metadata": {
  "kernelspec": {
   "display_name": "Python 3",
   "language": "python",
   "name": "python3"
  },
  "language_info": {
   "codemirror_mode": {
    "name": "ipython",
    "version": 3
   },
   "file_extension": ".py",
   "mimetype": "text/x-python",
   "name": "python",
   "nbconvert_exporter": "python",
   "pygments_lexer": "ipython3",
   "version": "3.12.6"
  }
 },
 "nbformat": 4,
 "nbformat_minor": 2
}
